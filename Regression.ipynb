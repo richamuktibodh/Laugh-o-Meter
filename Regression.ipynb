{
 "cells": [
  {
   "cell_type": "code",
   "execution_count": 7,
   "id": "9893c3c2-bd51-4cac-a852-495598fc549d",
   "metadata": {},
   "outputs": [],
   "source": [
    "import pandas as pd\n",
    "from sklearn.model_selection import train_test_split\n",
    "from sklearn.feature_extraction.text import TfidfVectorizer\n",
    "from sklearn.preprocessing import StandardScaler\n",
    "from sklearn.neighbors import KNeighborsRegressor\n",
    "from sklearn.metrics import r2_score\n",
    "from sklearn.model_selection import GridSearchCV\n",
    "from sklearn.neighbors import KNeighborsRegressor\n",
    "from sklearn.metrics import mean_squared_error\n",
    "from sklearn.feature_extraction.text import TfidfVectorizer\n",
    "from sklearn.linear_model import LinearRegression\n",
    "from sklearn.model_selection import train_test_split\n",
    "import pickle\n",
    "from sklearn.metrics import mean_squared_error"
   ]
  },
  {
   "cell_type": "code",
   "execution_count": 2,
   "id": "7f44d3ed-a32a-4783-ad77-d23c22c80926",
   "metadata": {},
   "outputs": [
    {
     "name": "stdout",
     "output_type": "stream",
     "text": [
      "KNN R-squared: 0.8085019173791494\n"
     ]
    }
   ],
   "source": [
    "df = pd.read_csv('train.csv')\n",
    "labels = df['avg_rating']\n",
    "vectorizer = TfidfVectorizer(ngram_range=(1, 3))\n",
    "X_tfidf = vectorizer.fit_transform(df['JokeSentences'])\n",
    "X_tfidf_dense = pd.DataFrame(X_tfidf.todense(), columns=vectorizer.get_feature_names_out())\n",
    "X_train, X_test, y_train, y_test = train_test_split(\n",
    "    X_tfidf_dense, labels, test_size=0.2, random_state=42\n",
    ")\n",
    "\n",
    "knn_regressor = KNeighborsRegressor(n_neighbors =  3 , metric = 'euclidean')\n",
    "knn_regressor.fit(X_train, y_train)\n",
    "\n",
    "y_pred_knn = knn_regressor.predict(X_test)\n",
    "r2_knn = r2_score(y_test, y_pred_knn)\n",
    "print(f\"KNN R-squared: {r2_knn}\")"
   ]
  },
  {
   "cell_type": "code",
   "execution_count": 3,
   "id": "6e7b7730-e60b-41dc-8506-bcdf0df51d2f",
   "metadata": {},
   "outputs": [
    {
     "name": "stdout",
     "output_type": "stream",
     "text": [
      "Fitting 5 folds for each of 30 candidates, totalling 150 fits\n",
      "Best Parameters: {'metric': 'euclidean', 'n_neighbors': 3, 'weights': 'distance'}\n",
      "Best Score (Negative Mean Squared Error): -0.5903242347787284\n",
      "Test Set Mean Squared Error: 0.35814641678922976\n"
     ]
    }
   ],
   "source": [
    "param_grid = {\n",
    "    'n_neighbors': [3, 5, 7, 9, 11 ],\n",
    "    'weights': ['uniform', 'distance'],\n",
    "    'metric': ['euclidean', 'manhattan', 'minkowski']\n",
    "}\n",
    "\n",
    "\n",
    "knn_regressor = KNeighborsRegressor()\n",
    "\n",
    "\n",
    "grid_search = GridSearchCV(knn_regressor, param_grid, cv=5, scoring='neg_mean_squared_error', verbose=1)\n",
    "\n",
    "\n",
    "grid_search.fit(X_train, y_train)\n",
    "\n",
    "\n",
    "print(\"Best Parameters:\", grid_search.best_params_)\n",
    "print(\"Best Score (Negative Mean Squared Error):\", grid_search.best_score_)\n",
    "\n",
    "\n",
    "best_knn_regressor = grid_search.best_estimator_\n",
    "y_pred = best_knn_regressor.predict(X_test)\n",
    "test_mse = mean_squared_error(y_test, y_pred)\n",
    "print(\"Test Set Mean Squared Error:\", test_mse)"
   ]
  },
  {
   "cell_type": "code",
   "execution_count": 9,
   "id": "d99d26a7-d694-45ac-8b1d-e35b641d6c56",
   "metadata": {},
   "outputs": [
    {
     "name": "stdout",
     "output_type": "stream",
     "text": [
      "R² Score for Linear Regression: 0.8167202284017401\n"
     ]
    }
   ],
   "source": [
    "lr_model = LinearRegression()\n",
    "lr_model.fit(X_train, y_train)\n",
    "\n",
    "y_pred_lr = lr_model.predict(X_test)\n",
    "r2 = r2_score(y_test, y_pred_lr)\n",
    "print(\"R² Score for Linear Regression:\", r2)"
   ]
  },
  {
   "cell_type": "code",
   "execution_count": 5,
   "id": "f93b402c-d832-4a4b-850e-1ec78dc176e0",
   "metadata": {},
   "outputs": [
    {
     "name": "stdout",
     "output_type": "stream",
     "text": [
      "R² Score for SVR: 0.7169882598292873\n"
     ]
    }
   ],
   "source": [
    "from sklearn.feature_extraction.text import TfidfVectorizer\n",
    "from sklearn.svm import SVR\n",
    "model = SVR(kernel = 'linear')\n",
    "model.fit(X_train, y_train)\n",
    "y_pred = model.predict(X_test)\n",
    "r2 = r2_score(y_test, y_pred)\n",
    "print(\"R² Score for SVR:\", r2)"
   ]
  },
  {
   "cell_type": "code",
   "execution_count": 6,
   "id": "f0b729ac-5813-4b5e-af14-5db218e2a329",
   "metadata": {},
   "outputs": [],
   "source": [
    "with open('knn_regressor.pkl', 'wb') as file:\n",
    "    pickle.dump(knn_regressor, file)\n",
    "\n",
    "with open('linear_regression_model.pkl', 'wb') as file:\n",
    "    pickle.dump(lr_model, file) \n",
    "\n",
    "with open('svr_model.pkl', 'wb') as file:\n",
    "    pickle.dump(model, file)  "
   ]
  },
  {
   "cell_type": "code",
   "execution_count": 10,
   "id": "20b49ab4-c76d-4ec0-b169-4689bebca038",
   "metadata": {},
   "outputs": [
    {
     "name": "stdout",
     "output_type": "stream",
     "text": [
      "KNN Regressor MSE: 0.4096690202659405\n",
      "Linear Regression MSE: 0.3920877088565129\n",
      "SVR MSE: 0.6054428364645724\n"
     ]
    }
   ],
   "source": [
    "mse_knn = mean_squared_error(y_test, y_pred_knn)\n",
    "print(f\"KNN Regressor MSE: {mse_knn}\")\n",
    "\n",
    "mse_lr = mean_squared_error(y_test, y_pred_lr)\n",
    "print(f\"Linear Regression MSE: {mse_lr}\")\n",
    "\n",
    "mse_svr = mean_squared_error(y_test, y_pred)\n",
    "print(f\"SVR MSE: {mse_svr}\")"
   ]
  },
  {
   "cell_type": "code",
   "execution_count": null,
   "id": "1096eadf-632b-4d15-9b8d-16a80987cd57",
   "metadata": {},
   "outputs": [],
   "source": []
  }
 ],
 "metadata": {
  "kernelspec": {
   "display_name": "Python 3 (ipykernel)",
   "language": "python",
   "name": "python3"
  },
  "language_info": {
   "codemirror_mode": {
    "name": "ipython",
    "version": 3
   },
   "file_extension": ".py",
   "mimetype": "text/x-python",
   "name": "python",
   "nbconvert_exporter": "python",
   "pygments_lexer": "ipython3",
   "version": "3.11.5"
  }
 },
 "nbformat": 4,
 "nbformat_minor": 5
}
